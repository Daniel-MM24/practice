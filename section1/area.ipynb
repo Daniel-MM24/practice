{
 "cells": [
  {
   "cell_type": "markdown",
   "id": "e03582b2-f6a9-401c-b39c-585c0dd3ff4f",
   "metadata": {},
   "source": [
    "## Calculating area "
   ]
  },
  {
   "cell_type": "code",
   "execution_count": 3,
   "id": "a7c0d83a-f544-44e5-9ed3-ddcdb78b4661",
   "metadata": {},
   "outputs": [
    {
     "data": {
      "text/plain": [
       "49"
      ]
     },
     "execution_count": 3,
     "metadata": {},
     "output_type": "execute_result"
    }
   ],
   "source": [
    "def area_of_square(lenght):\n",
    "    area = lenght*lenght\n",
    "    return area\n",
    "\n",
    "area_of_square(7)\n",
    "\n",
    "    "
   ]
  },
  {
   "cell_type": "code",
   "execution_count": null,
   "id": "4840430d-5dfc-4e0c-b6ac-6ccc424d4e1d",
   "metadata": {},
   "outputs": [],
   "source": []
  }
 ],
 "metadata": {
  "kernelspec": {
   "display_name": "Python (learn-env)",
   "language": "python",
   "name": "learn-env"
  },
  "language_info": {
   "codemirror_mode": {
    "name": "ipython",
    "version": 3
   },
   "file_extension": ".py",
   "mimetype": "text/x-python",
   "name": "python",
   "nbconvert_exporter": "python",
   "pygments_lexer": "ipython3",
   "version": "3.8.5"
  }
 },
 "nbformat": 4,
 "nbformat_minor": 5
}
