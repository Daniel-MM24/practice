{
 "cells": [
  {
   "cell_type": "markdown",
   "id": "e03582b2-f6a9-401c-b39c-585c0dd3ff4f",
   "metadata": {},
   "source": [
    "## Calculating area "
   ]
  },
  {
   "cell_type": "code",
   "execution_count": 7,
   "id": "a7c0d83a-f544-44e5-9ed3-ddcdb78b4661",
   "metadata": {},
   "outputs": [],
   "source": [
    "def area_of_square(length):\n",
    "    area = length*length\n",
    "    return area\n",
    "\n",
    "def area_of_rect(length, width):\n",
    "    area = length * width\n",
    "    return area\n",
    "\n",
    "\n",
    "\n",
    "    "
   ]
  },
  {
   "cell_type": "code",
   "execution_count": 9,
   "id": "4840430d-5dfc-4e0c-b6ac-6ccc424d4e1d",
   "metadata": {},
   "outputs": [
    {
     "name": "stdout",
     "output_type": "stream",
     "text": [
      "49\n",
      "45\n"
     ]
    }
   ],
   "source": [
    "print(area_of_square(7))\n",
    "print(area_of_rect(9, 5))"
   ]
  },
  {
   "cell_type": "code",
   "execution_count": null,
   "id": "a52ddb23-b505-4d19-9032-0c3ca11306b7",
   "metadata": {},
   "outputs": [],
   "source": []
  }
 ],
 "metadata": {
  "kernelspec": {
   "display_name": "Python (learn-env)",
   "language": "python",
   "name": "learn-env"
  },
  "language_info": {
   "codemirror_mode": {
    "name": "ipython",
    "version": 3
   },
   "file_extension": ".py",
   "mimetype": "text/x-python",
   "name": "python",
   "nbconvert_exporter": "python",
   "pygments_lexer": "ipython3",
   "version": "3.8.5"
  }
 },
 "nbformat": 4,
 "nbformat_minor": 5
}
